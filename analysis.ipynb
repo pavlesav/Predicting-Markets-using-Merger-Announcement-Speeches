{
 "cells": [
  {
   "cell_type": "code",
   "execution_count": 1,
   "metadata": {},
   "outputs": [],
   "source": [
    "import pandas as pd\n",
    "import re\n",
    "import textstat\n",
    "from sklearn.feature_extraction.text import CountVectorizer\n",
    "import numpy as np\n",
    "import pandas as pd\n",
    "from sklearn.preprocessing import MinMaxScaler\n",
    "import matplotlib.pyplot as plt"
   ]
  },
  {
   "cell_type": "code",
   "execution_count": 2,
   "metadata": {},
   "outputs": [],
   "source": [
    "df = pd.read_json('merger_data.json')\n"
   ]
  },
  {
   "cell_type": "code",
   "execution_count": 8,
   "metadata": {},
   "outputs": [
    {
     "data": {
      "text/plain": [
       "(825773, 20)"
      ]
     },
     "execution_count": 8,
     "metadata": {},
     "output_type": "execute_result"
    }
   ],
   "source": [
    "mergers = df.copy()\n",
    "mergers.shape"
   ]
  },
  {
   "cell_type": "markdown",
   "metadata": {},
   "source": [
    "Select industries with codes starting with 64,65,66,67,68,69 - Financial industries"
   ]
  },
  {
   "cell_type": "code",
   "execution_count": null,
   "metadata": {},
   "outputs": [],
   "source": [
    "industries = pd.read_csv('industries.csv')\n",
    "\n",
    "financial = industries[industries['code'].astype(str).str.startswith(('64', '65', '66', '67', '68', '69'))]\n",
    "\n",
    "filtered_codes = financial['code'].tolist()"
   ]
  },
  {
   "cell_type": "markdown",
   "metadata": {},
   "source": [
    "Convert datatype from the bidders industry column so I can match them and select only rows that interest me"
   ]
  },
  {
   "cell_type": "code",
   "execution_count": null,
   "metadata": {},
   "outputs": [
    {
     "name": "stdout",
     "output_type": "stream",
     "text": [
      "(122243, 20)\n"
     ]
    }
   ],
   "source": [
    "def convert_bidders_industry(value):\n",
    "    if isinstance(value, list):\n",
    "        if len(value) == 0:\n",
    "            return np.nan  \n",
    "        elif len(value) == 1:\n",
    "            element = value[0]\n",
    "            if element is not None and isinstance(element, (str, int, float)):\n",
    "                try:\n",
    "                    return int(float(element))  \n",
    "                except ValueError:\n",
    "                    return np.nan  \n",
    "            else:\n",
    "                return np.nan \n",
    "    return np.nan  \n",
    "\n",
    "mergers['bidders_industry'] = mergers['bidders_industry'].apply(convert_bidders_industry)\n",
    "\n",
    "financial_mergers = mergers[mergers['bidders_industry'].isin(filtered_codes)]\n",
    "print(financial_mergers.shape)"
   ]
  },
  {
   "cell_type": "markdown",
   "metadata": {},
   "source": [
    "Select only bidders country US to further reduce number of rows\n",
    "Select only rows where column 'bidders_isin' isn't None"
   ]
  },
  {
   "cell_type": "code",
   "execution_count": null,
   "metadata": {},
   "outputs": [
    {
     "data": {
      "text/plain": [
       "(9257, 20)"
      ]
     },
     "execution_count": 11,
     "metadata": {},
     "output_type": "execute_result"
    }
   ],
   "source": [
    "us_bidders = financial_mergers[financial_mergers['bidders_country'].apply(lambda x: 'US' in x if isinstance(x, list) else False)]\n",
    "\n",
    "us_bidders = us_bidders[us_bidders['bidders_isin'].apply(lambda x: x != [None])]\n",
    "\n",
    "us_bidders.shape"
   ]
  },
  {
   "cell_type": "markdown",
   "metadata": {},
   "source": [
    "Calculate readability/complexity scores based on the comments column"
   ]
  },
  {
   "cell_type": "code",
   "execution_count": null,
   "metadata": {},
   "outputs": [
    {
     "data": {
      "text/html": [
       "<div>\n",
       "<style scoped>\n",
       "    .dataframe tbody tr th:only-of-type {\n",
       "        vertical-align: middle;\n",
       "    }\n",
       "\n",
       "    .dataframe tbody tr th {\n",
       "        vertical-align: top;\n",
       "    }\n",
       "\n",
       "    .dataframe thead th {\n",
       "        text-align: right;\n",
       "    }\n",
       "</style>\n",
       "<table border=\"1\" class=\"dataframe\">\n",
       "  <thead>\n",
       "    <tr style=\"text-align: right;\">\n",
       "      <th></th>\n",
       "      <th>comments</th>\n",
       "      <th>fk_grade</th>\n",
       "      <th>inv_fk_reading_ease</th>\n",
       "      <th>avg_syllables</th>\n",
       "    </tr>\n",
       "  </thead>\n",
       "  <tbody>\n",
       "    <tr>\n",
       "      <th>492</th>\n",
       "      <td>2010-09-08: Southern Trust Securities Holding ...</td>\n",
       "      <td>6.6</td>\n",
       "      <td>26.42</td>\n",
       "      <td>1.407942</td>\n",
       "    </tr>\n",
       "    <tr>\n",
       "      <th>1396</th>\n",
       "      <td>2004-07-21: Mr Lawrence (Bud) Stumbaugh, Presi...</td>\n",
       "      <td>13.0</td>\n",
       "      <td>80.77</td>\n",
       "      <td>2.102041</td>\n",
       "    </tr>\n",
       "    <tr>\n",
       "      <th>2669</th>\n",
       "      <td>2023-07-20: it was announced that Oconee Feder...</td>\n",
       "      <td>9.6</td>\n",
       "      <td>55.70</td>\n",
       "      <td>1.814815</td>\n",
       "    </tr>\n",
       "    <tr>\n",
       "      <th>2715</th>\n",
       "      <td>2017-05-01: it was announced that on 25/04/17 ...</td>\n",
       "      <td>11.0</td>\n",
       "      <td>48.62</td>\n",
       "      <td>1.571429</td>\n",
       "    </tr>\n",
       "    <tr>\n",
       "      <th>2809</th>\n",
       "      <td>2009-07-07: Schneider Logistics Inc. announced...</td>\n",
       "      <td>6.9</td>\n",
       "      <td>37.96</td>\n",
       "      <td>1.600000</td>\n",
       "    </tr>\n",
       "  </tbody>\n",
       "</table>\n",
       "</div>"
      ],
      "text/plain": [
       "                                               comments  fk_grade  \\\n",
       "492   2010-09-08: Southern Trust Securities Holding ...       6.6   \n",
       "1396  2004-07-21: Mr Lawrence (Bud) Stumbaugh, Presi...      13.0   \n",
       "2669  2023-07-20: it was announced that Oconee Feder...       9.6   \n",
       "2715  2017-05-01: it was announced that on 25/04/17 ...      11.0   \n",
       "2809  2009-07-07: Schneider Logistics Inc. announced...       6.9   \n",
       "\n",
       "      inv_fk_reading_ease  avg_syllables  \n",
       "492                 26.42       1.407942  \n",
       "1396                80.77       2.102041  \n",
       "2669                55.70       1.814815  \n",
       "2715                48.62       1.571429  \n",
       "2809                37.96       1.600000  "
      ]
     },
     "execution_count": 12,
     "metadata": {},
     "output_type": "execute_result"
    }
   ],
   "source": [
    "textstat_obj = textstat.textstat\n",
    "\n",
    "def calculate_text_complexity(comment):\n",
    "    fk_grade = textstat_obj.flesch_kincaid_grade(comment)  \n",
    "    fk_reading_ease = textstat_obj.flesch_reading_ease(comment)  \n",
    "    \n",
    "    # Invert Flesch Reading Ease to align higher values with higher complexity\n",
    "    inv_fk_reading_ease = 100 - fk_reading_ease  # Reading Ease ranges between 0-100\n",
    "    \n",
    "    avg_syllables = np.mean([textstat_obj.syllable_count(word) for word in comment.split()]) if comment.split() else 0\n",
    "    \n",
    "    return fk_grade, inv_fk_reading_ease, avg_syllables\n",
    "\n",
    "complexity_scores = us_bidders['comments'].apply(calculate_text_complexity)\n",
    "\n",
    "us_bidders[['fk_grade', 'inv_fk_reading_ease', 'avg_syllables']] = pd.DataFrame(complexity_scores.tolist(), index=us_bidders.index)\n",
    "\n",
    "us_bidders[['comments', 'fk_grade', 'inv_fk_reading_ease', 'avg_syllables']].head()"
   ]
  },
  {
   "cell_type": "markdown",
   "metadata": {},
   "source": [
    "Normalise the columns so they are on the same scale and can be somewhat comparable and create complexity column which is just mean of the 3 calculated ones"
   ]
  },
  {
   "cell_type": "code",
   "execution_count": null,
   "metadata": {},
   "outputs": [
    {
     "data": {
      "text/html": [
       "<div>\n",
       "<style scoped>\n",
       "    .dataframe tbody tr th:only-of-type {\n",
       "        vertical-align: middle;\n",
       "    }\n",
       "\n",
       "    .dataframe tbody tr th {\n",
       "        vertical-align: top;\n",
       "    }\n",
       "\n",
       "    .dataframe thead th {\n",
       "        text-align: right;\n",
       "    }\n",
       "</style>\n",
       "<table border=\"1\" class=\"dataframe\">\n",
       "  <thead>\n",
       "    <tr style=\"text-align: right;\">\n",
       "      <th></th>\n",
       "      <th>comments</th>\n",
       "      <th>fk_grade</th>\n",
       "      <th>inv_fk_reading_ease</th>\n",
       "      <th>avg_syllables</th>\n",
       "      <th>complexity</th>\n",
       "    </tr>\n",
       "  </thead>\n",
       "  <tbody>\n",
       "    <tr>\n",
       "      <th>492</th>\n",
       "      <td>2010-09-08: Southern Trust Securities Holding ...</td>\n",
       "      <td>0.477516</td>\n",
       "      <td>0.604875</td>\n",
       "      <td>0.588128</td>\n",
       "      <td>0.556840</td>\n",
       "    </tr>\n",
       "    <tr>\n",
       "      <th>1396</th>\n",
       "      <td>2004-07-21: Mr Lawrence (Bud) Stumbaugh, Presi...</td>\n",
       "      <td>0.614561</td>\n",
       "      <td>0.851573</td>\n",
       "      <td>0.878068</td>\n",
       "      <td>0.781400</td>\n",
       "    </tr>\n",
       "    <tr>\n",
       "      <th>2669</th>\n",
       "      <td>2023-07-20: it was announced that Oconee Feder...</td>\n",
       "      <td>0.541756</td>\n",
       "      <td>0.737779</td>\n",
       "      <td>0.758087</td>\n",
       "      <td>0.679207</td>\n",
       "    </tr>\n",
       "    <tr>\n",
       "      <th>2715</th>\n",
       "      <td>2017-05-01: it was announced that on 25/04/17 ...</td>\n",
       "      <td>0.571734</td>\n",
       "      <td>0.705642</td>\n",
       "      <td>0.656420</td>\n",
       "      <td>0.644599</td>\n",
       "    </tr>\n",
       "    <tr>\n",
       "      <th>2809</th>\n",
       "      <td>2009-07-07: Schneider Logistics Inc. announced...</td>\n",
       "      <td>0.483940</td>\n",
       "      <td>0.657256</td>\n",
       "      <td>0.668354</td>\n",
       "      <td>0.603183</td>\n",
       "    </tr>\n",
       "  </tbody>\n",
       "</table>\n",
       "</div>"
      ],
      "text/plain": [
       "                                               comments  fk_grade  \\\n",
       "492   2010-09-08: Southern Trust Securities Holding ...  0.477516   \n",
       "1396  2004-07-21: Mr Lawrence (Bud) Stumbaugh, Presi...  0.614561   \n",
       "2669  2023-07-20: it was announced that Oconee Feder...  0.541756   \n",
       "2715  2017-05-01: it was announced that on 25/04/17 ...  0.571734   \n",
       "2809  2009-07-07: Schneider Logistics Inc. announced...  0.483940   \n",
       "\n",
       "      inv_fk_reading_ease  avg_syllables  complexity  \n",
       "492              0.604875       0.588128    0.556840  \n",
       "1396             0.851573       0.878068    0.781400  \n",
       "2669             0.737779       0.758087    0.679207  \n",
       "2715             0.705642       0.656420    0.644599  \n",
       "2809             0.657256       0.668354    0.603183  "
      ]
     },
     "execution_count": 13,
     "metadata": {},
     "output_type": "execute_result"
    }
   ],
   "source": [
    "scaler = MinMaxScaler()\n",
    "\n",
    "columns_to_normalize = ['fk_grade', 'inv_fk_reading_ease', 'avg_syllables']\n",
    "\n",
    "us_bidders.loc[:, columns_to_normalize] = scaler.fit_transform(us_bidders[columns_to_normalize])\n",
    "\n",
    "us_bidders = us_bidders.copy()\n",
    "us_bidders.loc[:, 'complexity'] = us_bidders[columns_to_normalize].mean(axis=1)\n",
    "\n",
    "us_bidders = us_bidders[us_bidders['complexity'] != 0]\n",
    "\n",
    "us_bidders[['comments', 'fk_grade', 'inv_fk_reading_ease', 'avg_syllables', 'complexity']].head(5)"
   ]
  },
  {
   "cell_type": "code",
   "execution_count": null,
   "metadata": {},
   "outputs": [
    {
     "name": "stdout",
     "output_type": "stream",
     "text": [
      "count    9186.000000\n",
      "mean        0.647077\n",
      "std         0.053195\n",
      "min         0.489245\n",
      "25%         0.611040\n",
      "50%         0.644219\n",
      "75%         0.679204\n",
      "max         0.915003\n",
      "Name: complexity, dtype: float64\n"
     ]
    }
   ],
   "source": [
    "scaler = MinMaxScaler()\n",
    "\n",
    "us_bidders = us_bidders.copy()\n",
    "\n",
    "us_bidders.loc[:, 'normalized_complexity'] = scaler.fit_transform(us_bidders[['complexity']])\n",
    "\n",
    "print(us_bidders['complexity'].describe())"
   ]
  },
  {
   "cell_type": "markdown",
   "metadata": {},
   "source": [
    "Create a column with text length of the comments column"
   ]
  },
  {
   "cell_type": "code",
   "execution_count": null,
   "metadata": {},
   "outputs": [
    {
     "data": {
      "text/plain": [
       "count    9186.000000\n",
       "mean      111.734487\n",
       "std       118.459506\n",
       "min         7.000000\n",
       "25%        40.000000\n",
       "50%        70.000000\n",
       "75%       137.000000\n",
       "max      2286.000000\n",
       "Name: text_length, dtype: float64"
      ]
     },
     "execution_count": 15,
     "metadata": {},
     "output_type": "execute_result"
    }
   ],
   "source": [
    "us_bidders = us_bidders.copy()\n",
    "\n",
    "def calculate_text_length(comment):\n",
    "    return len(comment.split())\n",
    "\n",
    "us_bidders.loc[:, 'text_length'] = us_bidders['comments'].apply(calculate_text_length)\n",
    "us_bidders['text_length'].describe()"
   ]
  },
  {
   "cell_type": "markdown",
   "metadata": {},
   "source": [
    "Plot and calculate the relationship between text length and complexity"
   ]
  },
  {
   "cell_type": "code",
   "execution_count": null,
   "metadata": {},
   "outputs": [
    {
     "data": {
      "image/png": "[encoded data removed]",
      "text/plain": [
       "<Figure size 1000x600 with 1 Axes>"
      ]
     },
     "metadata": {},
     "output_type": "display_data"
    },
    {
     "name": "stdout",
     "output_type": "stream",
     "text": [
      "Spearman Correlation: -0.3275538015712322\n",
      "Pearson Correlation: -0.2344744717750397\n"
     ]
    }
   ],
   "source": [
    "plt.figure(figsize=(10, 6))\n",
    "plt.scatter(us_bidders['text_length'], us_bidders['complexity'], alpha=0.5, color='blue')\n",
    "\n",
    "plt.xlim(0, 1000)\n",
    "\n",
    "plt.title('Scatter Plot of Normalized Complexity vs Text Length (X Limit = 1000)')\n",
    "plt.ylabel('Normalized Complexity')\n",
    "plt.xlabel('Text Length (Word Count)')\n",
    "plt.grid(True)\n",
    "plt.show()\n",
    "\n",
    "pearson_corr = us_bidders['text_length'].corr(us_bidders['complexity'], method='pearson')\n",
    "spearman_corr = us_bidders['text_length'].corr(us_bidders['complexity'], method='spearman')\n",
    "\n",
    "print(f\"Spearman Correlation: {spearman_corr}\")\n",
    "print(f\"Pearson Correlation: {pearson_corr}\")\n",
    "\n"
   ]
  },
  {
   "cell_type": "code",
   "execution_count": 18,
   "metadata": {},
   "outputs": [],
   "source": [
    "#us_bidders_cleaned.head(2)\n",
    "bidders_count = us_bidders['bidders_name'].value_counts()\n",
    "bidders_count_is_in = us_bidders['bidders_isin'].value_counts()"
   ]
  },
  {
   "cell_type": "code",
   "execution_count": 19,
   "metadata": {},
   "outputs": [
    {
     "data": {
      "text/plain": [
       "bidders_isin\n",
       "[US3635761097]    456\n",
       "[US1152361010]    190\n",
       "[US12504L1098]     97\n",
       "[US63607P2083]     80\n",
       "[US48020Q1076]     78\n",
       "                 ... \n",
       "[US14912Y2028]      1\n",
       "[US34619V1035]      1\n",
       "[US67623C1099]      1\n",
       "[US3514713052]      1\n",
       "[US09623W1071]      1\n",
       "Name: count, Length: 2255, dtype: int64"
      ]
     },
     "execution_count": 19,
     "metadata": {},
     "output_type": "execute_result"
    }
   ],
   "source": [
    "bidders_count_is_in"
   ]
  },
  {
   "cell_type": "code",
   "execution_count": null,
   "metadata": {},
   "outputs": [],
   "source": [
    "unique_bidders_df = us_bidders[['bidders_name', 'bidders_isin']].drop_duplicates(subset='bidders_isin')\n",
    "\n",
    "unique_bidders_df['bidders_name'].value_counts()\n",
    "\n",
    "# Save the new DataFrame to a CSV file\n",
    "#unique_bidders_df.to_csv('unique_bidders.csv', index=False)\n",
    "\n",
    "#unique_bidders_df.value_counts()\n",
    "\n"
   ]
  },
  {
   "cell_type": "markdown",
   "metadata": {},
   "source": [
    "Use the data that I downloaded using Refinitiv Eikon"
   ]
  },
  {
   "cell_type": "code",
   "execution_count": null,
   "metadata": {},
   "outputs": [],
   "source": [
    "file_path = 'data_ps.xlsx'\n",
    "sheets = pd.read_excel(file_path, sheet_name=None)"
   ]
  },
  {
   "cell_type": "markdown",
   "metadata": {},
   "source": [
    "Load all the individual sheets"
   ]
  },
  {
   "cell_type": "code",
   "execution_count": 150,
   "metadata": {},
   "outputs": [],
   "source": [
    "isin = sheets['isin,ric,name']\n",
    "price = sheets['P']\n",
    "price_in_dollars = sheets['P~U$']\n",
    "return_index = sheets['RI']\n",
    "ps = sheets['P#S']\n",
    "earnings_per_share = sheets['EPS']\n",
    "dividend_yield = sheets['DY']\n",
    "dividend_per_share = sheets['DPS']"
   ]
  },
  {
   "cell_type": "markdown",
   "metadata": {},
   "source": [
    "Work with return index data so it's compatible"
   ]
  },
  {
   "cell_type": "code",
   "execution_count": 151,
   "metadata": {},
   "outputs": [
    {
     "data": {
      "text/plain": [
       "(2255, 2612)"
      ]
     },
     "execution_count": 151,
     "metadata": {},
     "output_type": "execute_result"
    }
   ],
   "source": [
    "return_index['Name_cleaned'] = return_index['Name'].str.replace(r' - TOT RETURN IND$', '', regex=True)\n",
    "return_index.shape\n",
    "#return_index.loc[1,'Name']"
   ]
  },
  {
   "cell_type": "markdown",
   "metadata": {},
   "source": [
    "Merge RI and ISIN dataframes and cleanup"
   ]
  },
  {
   "cell_type": "code",
   "execution_count": null,
   "metadata": {},
   "outputs": [],
   "source": [
    "ri = pd.merge(return_index, isin, left_on='Name_cleaned', right_on='NAME', how='inner')\n",
    "\n",
    "columns = ['Type'] + [col for col in ri.columns if col != 'Type']\n",
    "ri = ri[columns]\n"
   ]
  },
  {
   "cell_type": "code",
   "execution_count": null,
   "metadata": {},
   "outputs": [],
   "source": [
    "ri = ri.drop(columns=['Name', 'Name_cleaned', 'RIC'])\n",
    "\n",
    "ri = ri[['NAME'] + [col for col in ri.columns if col != 'NAME']]"
   ]
  },
  {
   "cell_type": "code",
   "execution_count": null,
   "metadata": {},
   "outputs": [],
   "source": [
    "ri = ri.rename(columns={'Type': 'ISIN'})"
   ]
  },
  {
   "cell_type": "code",
   "execution_count": 155,
   "metadata": {},
   "outputs": [
    {
     "name": "stderr",
     "output_type": "stream",
     "text": [
      "C:\\Users\\pavle\\AppData\\Local\\Temp\\ipykernel_16568\\209465955.py:3: SettingWithCopyWarning: \n",
      "A value is trying to be set on a copy of a slice from a DataFrame\n",
      "\n",
      "See the caveats in the documentation: https://pandas.pydata.org/pandas-docs/stable/user_guide/indexing.html#returning-a-view-versus-a-copy\n",
      "  merging_df.rename(columns={'bidders_isin':'ISIN'}, inplace=True)\n"
     ]
    }
   ],
   "source": [
    "columns_to_chose = ['bidders_isin', 'complexity', 'text_length', 'date_rumor', 'date_announcement']\n",
    "merging_df = us_bidders[columns_to_chose]\n",
    "merging_df.rename(columns={'bidders_isin':'ISIN'}, inplace=True)"
   ]
  },
  {
   "cell_type": "code",
   "execution_count": 156,
   "metadata": {},
   "outputs": [
    {
     "data": {
      "text/plain": [
       "(9186, 5)"
      ]
     },
     "execution_count": 156,
     "metadata": {},
     "output_type": "execute_result"
    }
   ],
   "source": [
    "merging_df.shape"
   ]
  },
  {
   "cell_type": "markdown",
   "metadata": {},
   "source": [
    "Work with datatypes so it matches"
   ]
  },
  {
   "cell_type": "code",
   "execution_count": null,
   "metadata": {},
   "outputs": [
    {
     "name": "stderr",
     "output_type": "stream",
     "text": [
      "C:\\Users\\pavle\\AppData\\Local\\Temp\\ipykernel_16568\\3404886722.py:3: SettingWithCopyWarning: \n",
      "A value is trying to be set on a copy of a slice from a DataFrame.\n",
      "Try using .loc[row_indexer,col_indexer] = value instead\n",
      "\n",
      "See the caveats in the documentation: https://pandas.pydata.org/pandas-docs/stable/user_guide/indexing.html#returning-a-view-versus-a-copy\n",
      "  merging_df['ISIN'] = merging_df['ISIN'].astype(str)\n",
      "C:\\Users\\pavle\\AppData\\Local\\Temp\\ipykernel_16568\\3404886722.py:6: SettingWithCopyWarning: \n",
      "A value is trying to be set on a copy of a slice from a DataFrame.\n",
      "Try using .loc[row_indexer,col_indexer] = value instead\n",
      "\n",
      "See the caveats in the documentation: https://pandas.pydata.org/pandas-docs/stable/user_guide/indexing.html#returning-a-view-versus-a-copy\n",
      "  merging_df['ISIN'] = merging_df['ISIN'].str.strip(\"[]\").str.replace(\"'\", \"\")\n"
     ]
    }
   ],
   "source": [
    "ri['ISIN'] = ri['ISIN'].astype(str)\n",
    "merging_df['ISIN'] = merging_df['ISIN'].astype(str)\n",
    "\n",
    "# Clean the ISIN column in merging_df by stripping characters and removing quotes\n",
    "merging_df['ISIN'] = merging_df['ISIN'].str.strip(\"[]\").str.replace(\"'\", \"\")\n",
    "\n",
    "merged_df = pd.merge(merging_df, ri, on='ISIN', how='inner')\n",
    "\n",
    "merged_df = merged_df.drop(columns=merged_df.columns[-1])\n"
   ]
  },
  {
   "cell_type": "code",
   "execution_count": null,
   "metadata": {},
   "outputs": [],
   "source": [
    "date_columns = merged_df.columns[6:]  # Date columns are from index 6 onwards\n",
    "\n",
    "date_columns = pd.to_datetime(date_columns).date\n",
    "\n",
    "merged_df.columns = list(merged_df.columns[:6]) + list(date_columns)"
   ]
  },
  {
   "cell_type": "code",
   "execution_count": null,
   "metadata": {},
   "outputs": [],
   "source": [
    "price_columns = merged_df.columns[6:]\n",
    "merged_df['date_rumor'] = pd.to_datetime(merged_df['date_rumor'])\n",
    "merged_df['date_announcement'] = pd.to_datetime(merged_df['date_announcement'])\n",
    "\n",
    "merged_df[price_columns] = merged_df[price_columns].apply(pd.to_numeric, errors='coerce')\n",
    "\n",
    "merged_df[price_columns] = merged_df[price_columns].astype(float)"
   ]
  },
  {
   "cell_type": "markdown",
   "metadata": {},
   "source": [
    "Drop all mergers where the price is unavailable or the rumor date is before 2015"
   ]
  },
  {
   "cell_type": "code",
   "execution_count": null,
   "metadata": {},
   "outputs": [
    {
     "data": {
      "text/plain": [
       "(2340, 2615)"
      ]
     },
     "execution_count": 160,
     "metadata": {},
     "output_type": "execute_result"
    }
   ],
   "source": [
    "date_columns = merged_df.columns[6:]\n",
    "\n",
    "merged_df = merged_df[~(merged_df[date_columns] == 0).all(axis=1)]\n",
    "\n",
    "merged_df = merged_df[merged_df['date_rumor'] >= '2015-11-27']\n",
    "\n",
    "merged_df.shape\n"
   ]
  },
  {
   "cell_type": "code",
   "execution_count": 161,
   "metadata": {},
   "outputs": [],
   "source": [
    "merged_df[price_columns] = merged_df[price_columns].apply(pd.to_numeric, errors='coerce')"
   ]
  },
  {
   "cell_type": "code",
   "execution_count": 162,
   "metadata": {},
   "outputs": [
    {
     "name": "stdout",
     "output_type": "stream",
     "text": [
      "2014-11-27    623\n",
      "2014-11-28    623\n",
      "2014-12-01    623\n",
      "2014-12-02    623\n",
      "2014-12-03    623\n",
      "             ... \n",
      "2024-11-20      0\n",
      "2024-11-21      0\n",
      "2024-11-22      0\n",
      "2024-11-25      0\n",
      "2024-11-26      0\n",
      "Length: 2609, dtype: int64\n"
     ]
    }
   ],
   "source": [
    "print(merged_df[price_columns].isna().sum())  # Check before pct_change\n"
   ]
  },
  {
   "cell_type": "code",
   "execution_count": null,
   "metadata": {},
   "outputs": [],
   "source": [
    "threshold = len(price_columns) * 0.3  # At least 30% of columns must be non-NaN\n",
    "merged_df.dropna(thresh=threshold, subset=price_columns, inplace=True)"
   ]
  },
  {
   "cell_type": "markdown",
   "metadata": {},
   "source": [
    "Compute logarithmic returns"
   ]
  },
  {
   "cell_type": "code",
   "execution_count": null,
   "metadata": {},
   "outputs": [
    {
     "name": "stderr",
     "output_type": "stream",
     "text": [
      "C:\\Users\\pavle\\AppData\\Local\\Temp\\ipykernel_16568\\3872413496.py:5: FutureWarning: The default fill_method='pad' in DataFrame.pct_change is deprecated and will be removed in a future version. Either fill in any non-leading NA values prior to calling pct_change or specify 'fill_method=None' to not fill NA values.\n",
      "  log_returns = np.log(merged_df[price_columns].pct_change(axis=1) + 1)\n",
      "c:\\Users\\pavle\\AppData\\Local\\Programs\\Python\\Python310\\lib\\site-packages\\pandas\\core\\internals\\blocks.py:366: RuntimeWarning: divide by zero encountered in log\n",
      "  result = func(self.values, **kwargs)\n"
     ]
    },
    {
     "data": {
      "text/html": [
       "<div>\n",
       "<style scoped>\n",
       "    .dataframe tbody tr th:only-of-type {\n",
       "        vertical-align: middle;\n",
       "    }\n",
       "\n",
       "    .dataframe tbody tr th {\n",
       "        vertical-align: top;\n",
       "    }\n",
       "\n",
       "    .dataframe thead th {\n",
       "        text-align: right;\n",
       "    }\n",
       "</style>\n",
       "<table border=\"1\" class=\"dataframe\">\n",
       "  <thead>\n",
       "    <tr style=\"text-align: right;\">\n",
       "      <th></th>\n",
       "      <th>ISIN</th>\n",
       "      <th>complexity</th>\n",
       "      <th>text_length</th>\n",
       "      <th>date_rumor</th>\n",
       "      <th>date_announcement</th>\n",
       "      <th>NAME</th>\n",
       "      <th>2014-11-27</th>\n",
       "      <th>2014-11-28</th>\n",
       "      <th>2014-12-01</th>\n",
       "      <th>2014-12-02</th>\n",
       "      <th>...</th>\n",
       "      <th>2024-11-13</th>\n",
       "      <th>2024-11-14</th>\n",
       "      <th>2024-11-15</th>\n",
       "      <th>2024-11-18</th>\n",
       "      <th>2024-11-19</th>\n",
       "      <th>2024-11-20</th>\n",
       "      <th>2024-11-21</th>\n",
       "      <th>2024-11-22</th>\n",
       "      <th>2024-11-25</th>\n",
       "      <th>2024-11-26</th>\n",
       "    </tr>\n",
       "  </thead>\n",
       "  <tbody>\n",
       "    <tr>\n",
       "      <th>6</th>\n",
       "      <td>US6756071055</td>\n",
       "      <td>0.679207</td>\n",
       "      <td>81</td>\n",
       "      <td>2023-07-20</td>\n",
       "      <td>2023-07-20</td>\n",
       "      <td>OCONEE FED FINL</td>\n",
       "      <td>NaN</td>\n",
       "      <td>0.002679</td>\n",
       "      <td>0.004204</td>\n",
       "      <td>0.000000</td>\n",
       "      <td>...</td>\n",
       "      <td>0.0000</td>\n",
       "      <td>0.000000</td>\n",
       "      <td>0.0000</td>\n",
       "      <td>-0.006676</td>\n",
       "      <td>0.076823</td>\n",
       "      <td>-0.069357</td>\n",
       "      <td>0.000000</td>\n",
       "      <td>0.000000</td>\n",
       "      <td>0.071443</td>\n",
       "      <td>0.000000</td>\n",
       "    </tr>\n",
       "    <tr>\n",
       "      <th>8</th>\n",
       "      <td>US42981W1045</td>\n",
       "      <td>0.644599</td>\n",
       "      <td>119</td>\n",
       "      <td>2017-04-25</td>\n",
       "      <td>2017-04-25</td>\n",
       "      <td>HIGH WIRE NETWORKS</td>\n",
       "      <td>NaN</td>\n",
       "      <td>-0.177931</td>\n",
       "      <td>0.108849</td>\n",
       "      <td>0.048879</td>\n",
       "      <td>...</td>\n",
       "      <td>NaN</td>\n",
       "      <td>NaN</td>\n",
       "      <td>NaN</td>\n",
       "      <td>NaN</td>\n",
       "      <td>NaN</td>\n",
       "      <td>NaN</td>\n",
       "      <td>NaN</td>\n",
       "      <td>NaN</td>\n",
       "      <td>NaN</td>\n",
       "      <td>NaN</td>\n",
       "    </tr>\n",
       "    <tr>\n",
       "      <th>19</th>\n",
       "      <td>US3020811044</td>\n",
       "      <td>0.707324</td>\n",
       "      <td>39</td>\n",
       "      <td>2016-02-12</td>\n",
       "      <td>NaT</td>\n",
       "      <td>EXLSERVICE HDG.</td>\n",
       "      <td>NaN</td>\n",
       "      <td>-0.002819</td>\n",
       "      <td>-0.020576</td>\n",
       "      <td>0.005815</td>\n",
       "      <td>...</td>\n",
       "      <td>-0.0142</td>\n",
       "      <td>-0.016162</td>\n",
       "      <td>-0.0162</td>\n",
       "      <td>-0.007634</td>\n",
       "      <td>-0.001582</td>\n",
       "      <td>0.002252</td>\n",
       "      <td>0.028434</td>\n",
       "      <td>0.011976</td>\n",
       "      <td>0.012044</td>\n",
       "      <td>0.005335</td>\n",
       "    </tr>\n",
       "    <tr>\n",
       "      <th>20</th>\n",
       "      <td>US3020811044</td>\n",
       "      <td>0.605777</td>\n",
       "      <td>45</td>\n",
       "      <td>2016-07-06</td>\n",
       "      <td>2016-07-06</td>\n",
       "      <td>EXLSERVICE HDG.</td>\n",
       "      <td>NaN</td>\n",
       "      <td>-0.002819</td>\n",
       "      <td>-0.020576</td>\n",
       "      <td>0.005815</td>\n",
       "      <td>...</td>\n",
       "      <td>-0.0142</td>\n",
       "      <td>-0.016162</td>\n",
       "      <td>-0.0162</td>\n",
       "      <td>-0.007634</td>\n",
       "      <td>-0.001582</td>\n",
       "      <td>0.002252</td>\n",
       "      <td>0.028434</td>\n",
       "      <td>0.011976</td>\n",
       "      <td>0.012044</td>\n",
       "      <td>0.005335</td>\n",
       "    </tr>\n",
       "    <tr>\n",
       "      <th>21</th>\n",
       "      <td>US3020811044</td>\n",
       "      <td>0.639080</td>\n",
       "      <td>29</td>\n",
       "      <td>2016-10-27</td>\n",
       "      <td>2016-10-27</td>\n",
       "      <td>EXLSERVICE HDG.</td>\n",
       "      <td>NaN</td>\n",
       "      <td>-0.002819</td>\n",
       "      <td>-0.020576</td>\n",
       "      <td>0.005815</td>\n",
       "      <td>...</td>\n",
       "      <td>-0.0142</td>\n",
       "      <td>-0.016162</td>\n",
       "      <td>-0.0162</td>\n",
       "      <td>-0.007634</td>\n",
       "      <td>-0.001582</td>\n",
       "      <td>0.002252</td>\n",
       "      <td>0.028434</td>\n",
       "      <td>0.011976</td>\n",
       "      <td>0.012044</td>\n",
       "      <td>0.005335</td>\n",
       "    </tr>\n",
       "  </tbody>\n",
       "</table>\n",
       "<p>5 rows × 2615 columns</p>\n",
       "</div>"
      ],
      "text/plain": [
       "            ISIN  complexity  text_length date_rumor date_announcement  \\\n",
       "6   US6756071055    0.679207           81 2023-07-20        2023-07-20   \n",
       "8   US42981W1045    0.644599          119 2017-04-25        2017-04-25   \n",
       "19  US3020811044    0.707324           39 2016-02-12               NaT   \n",
       "20  US3020811044    0.605777           45 2016-07-06        2016-07-06   \n",
       "21  US3020811044    0.639080           29 2016-10-27        2016-10-27   \n",
       "\n",
       "                  NAME  2014-11-27  2014-11-28  2014-12-01  2014-12-02  ...  \\\n",
       "6      OCONEE FED FINL         NaN    0.002679    0.004204    0.000000  ...   \n",
       "8   HIGH WIRE NETWORKS         NaN   -0.177931    0.108849    0.048879  ...   \n",
       "19     EXLSERVICE HDG.         NaN   -0.002819   -0.020576    0.005815  ...   \n",
       "20     EXLSERVICE HDG.         NaN   -0.002819   -0.020576    0.005815  ...   \n",
       "21     EXLSERVICE HDG.         NaN   -0.002819   -0.020576    0.005815  ...   \n",
       "\n",
       "    2024-11-13  2024-11-14  2024-11-15  2024-11-18  2024-11-19  2024-11-20  \\\n",
       "6       0.0000    0.000000      0.0000   -0.006676    0.076823   -0.069357   \n",
       "8          NaN         NaN         NaN         NaN         NaN         NaN   \n",
       "19     -0.0142   -0.016162     -0.0162   -0.007634   -0.001582    0.002252   \n",
       "20     -0.0142   -0.016162     -0.0162   -0.007634   -0.001582    0.002252   \n",
       "21     -0.0142   -0.016162     -0.0162   -0.007634   -0.001582    0.002252   \n",
       "\n",
       "    2024-11-21  2024-11-22  2024-11-25  2024-11-26  \n",
       "6     0.000000    0.000000    0.071443    0.000000  \n",
       "8          NaN         NaN         NaN         NaN  \n",
       "19    0.028434    0.011976    0.012044    0.005335  \n",
       "20    0.028434    0.011976    0.012044    0.005335  \n",
       "21    0.028434    0.011976    0.012044    0.005335  \n",
       "\n",
       "[5 rows x 2615 columns]"
      ]
     },
     "execution_count": 164,
     "metadata": {},
     "output_type": "execute_result"
    }
   ],
   "source": [
    "merged_df[price_columns] = merged_df[price_columns].apply(pd.to_numeric, errors='coerce')\n",
    "\n",
    "log_returns = np.log(merged_df[price_columns].pct_change(axis=1) + 1)\n",
    "\n",
    "merged_df[price_columns] = log_returns\n",
    "\n",
    "threshold = len(price_columns) * 0.3  # Keep rows with at least 30% valid data\n",
    "merged_df.dropna(thresh=threshold, subset=price_columns, inplace=True)"
   ]
  },
  {
   "cell_type": "markdown",
   "metadata": {},
   "source": [
    "Drop rows where 75% or more values are NaN or 0"
   ]
  },
  {
   "cell_type": "code",
   "execution_count": null,
   "metadata": {},
   "outputs": [
    {
     "data": {
      "text/html": [
       "<div>\n",
       "<style scoped>\n",
       "    .dataframe tbody tr th:only-of-type {\n",
       "        vertical-align: middle;\n",
       "    }\n",
       "\n",
       "    .dataframe tbody tr th {\n",
       "        vertical-align: top;\n",
       "    }\n",
       "\n",
       "    .dataframe thead th {\n",
       "        text-align: right;\n",
       "    }\n",
       "</style>\n",
       "<table border=\"1\" class=\"dataframe\">\n",
       "  <thead>\n",
       "    <tr style=\"text-align: right;\">\n",
       "      <th></th>\n",
       "      <th>ISIN</th>\n",
       "      <th>complexity</th>\n",
       "      <th>text_length</th>\n",
       "      <th>date_rumor</th>\n",
       "      <th>date_announcement</th>\n",
       "      <th>NAME</th>\n",
       "      <th>2014-11-27</th>\n",
       "      <th>2014-11-28</th>\n",
       "      <th>2014-12-01</th>\n",
       "      <th>2014-12-02</th>\n",
       "      <th>...</th>\n",
       "      <th>2024-11-13</th>\n",
       "      <th>2024-11-14</th>\n",
       "      <th>2024-11-15</th>\n",
       "      <th>2024-11-18</th>\n",
       "      <th>2024-11-19</th>\n",
       "      <th>2024-11-20</th>\n",
       "      <th>2024-11-21</th>\n",
       "      <th>2024-11-22</th>\n",
       "      <th>2024-11-25</th>\n",
       "      <th>2024-11-26</th>\n",
       "    </tr>\n",
       "  </thead>\n",
       "  <tbody>\n",
       "    <tr>\n",
       "      <th>6</th>\n",
       "      <td>US6756071055</td>\n",
       "      <td>0.679207</td>\n",
       "      <td>81</td>\n",
       "      <td>2023-07-20</td>\n",
       "      <td>2023-07-20</td>\n",
       "      <td>OCONEE FED FINL</td>\n",
       "      <td>NaN</td>\n",
       "      <td>0.002679</td>\n",
       "      <td>0.004204</td>\n",
       "      <td>0.000000</td>\n",
       "      <td>...</td>\n",
       "      <td>0.000000</td>\n",
       "      <td>0.000000</td>\n",
       "      <td>0.000000</td>\n",
       "      <td>-0.006676</td>\n",
       "      <td>0.076823</td>\n",
       "      <td>-0.069357</td>\n",
       "      <td>0.000000</td>\n",
       "      <td>0.000000</td>\n",
       "      <td>0.071443</td>\n",
       "      <td>0.000000</td>\n",
       "    </tr>\n",
       "    <tr>\n",
       "      <th>8</th>\n",
       "      <td>US42981W1045</td>\n",
       "      <td>0.644599</td>\n",
       "      <td>119</td>\n",
       "      <td>2017-04-25</td>\n",
       "      <td>2017-04-25</td>\n",
       "      <td>HIGH WIRE NETWORKS</td>\n",
       "      <td>NaN</td>\n",
       "      <td>-0.177931</td>\n",
       "      <td>0.108849</td>\n",
       "      <td>0.048879</td>\n",
       "      <td>...</td>\n",
       "      <td>NaN</td>\n",
       "      <td>NaN</td>\n",
       "      <td>NaN</td>\n",
       "      <td>NaN</td>\n",
       "      <td>NaN</td>\n",
       "      <td>NaN</td>\n",
       "      <td>NaN</td>\n",
       "      <td>NaN</td>\n",
       "      <td>NaN</td>\n",
       "      <td>NaN</td>\n",
       "    </tr>\n",
       "    <tr>\n",
       "      <th>19</th>\n",
       "      <td>US3020811044</td>\n",
       "      <td>0.707324</td>\n",
       "      <td>39</td>\n",
       "      <td>2016-02-12</td>\n",
       "      <td>NaT</td>\n",
       "      <td>EXLSERVICE HDG.</td>\n",
       "      <td>NaN</td>\n",
       "      <td>-0.002819</td>\n",
       "      <td>-0.020576</td>\n",
       "      <td>0.005815</td>\n",
       "      <td>...</td>\n",
       "      <td>-0.014200</td>\n",
       "      <td>-0.016162</td>\n",
       "      <td>-0.016200</td>\n",
       "      <td>-0.007634</td>\n",
       "      <td>-0.001582</td>\n",
       "      <td>0.002252</td>\n",
       "      <td>0.028434</td>\n",
       "      <td>0.011976</td>\n",
       "      <td>0.012044</td>\n",
       "      <td>0.005335</td>\n",
       "    </tr>\n",
       "    <tr>\n",
       "      <th>20</th>\n",
       "      <td>US3020811044</td>\n",
       "      <td>0.605777</td>\n",
       "      <td>45</td>\n",
       "      <td>2016-07-06</td>\n",
       "      <td>2016-07-06</td>\n",
       "      <td>EXLSERVICE HDG.</td>\n",
       "      <td>NaN</td>\n",
       "      <td>-0.002819</td>\n",
       "      <td>-0.020576</td>\n",
       "      <td>0.005815</td>\n",
       "      <td>...</td>\n",
       "      <td>-0.014200</td>\n",
       "      <td>-0.016162</td>\n",
       "      <td>-0.016200</td>\n",
       "      <td>-0.007634</td>\n",
       "      <td>-0.001582</td>\n",
       "      <td>0.002252</td>\n",
       "      <td>0.028434</td>\n",
       "      <td>0.011976</td>\n",
       "      <td>0.012044</td>\n",
       "      <td>0.005335</td>\n",
       "    </tr>\n",
       "    <tr>\n",
       "      <th>21</th>\n",
       "      <td>US3020811044</td>\n",
       "      <td>0.639080</td>\n",
       "      <td>29</td>\n",
       "      <td>2016-10-27</td>\n",
       "      <td>2016-10-27</td>\n",
       "      <td>EXLSERVICE HDG.</td>\n",
       "      <td>NaN</td>\n",
       "      <td>-0.002819</td>\n",
       "      <td>-0.020576</td>\n",
       "      <td>0.005815</td>\n",
       "      <td>...</td>\n",
       "      <td>-0.014200</td>\n",
       "      <td>-0.016162</td>\n",
       "      <td>-0.016200</td>\n",
       "      <td>-0.007634</td>\n",
       "      <td>-0.001582</td>\n",
       "      <td>0.002252</td>\n",
       "      <td>0.028434</td>\n",
       "      <td>0.011976</td>\n",
       "      <td>0.012044</td>\n",
       "      <td>0.005335</td>\n",
       "    </tr>\n",
       "    <tr>\n",
       "      <th>...</th>\n",
       "      <td>...</td>\n",
       "      <td>...</td>\n",
       "      <td>...</td>\n",
       "      <td>...</td>\n",
       "      <td>...</td>\n",
       "      <td>...</td>\n",
       "      <td>...</td>\n",
       "      <td>...</td>\n",
       "      <td>...</td>\n",
       "      <td>...</td>\n",
       "      <td>...</td>\n",
       "      <td>...</td>\n",
       "      <td>...</td>\n",
       "      <td>...</td>\n",
       "      <td>...</td>\n",
       "      <td>...</td>\n",
       "      <td>...</td>\n",
       "      <td>...</td>\n",
       "      <td>...</td>\n",
       "      <td>...</td>\n",
       "      <td>...</td>\n",
       "    </tr>\n",
       "    <tr>\n",
       "      <th>9059</th>\n",
       "      <td>US69360N1081</td>\n",
       "      <td>0.641179</td>\n",
       "      <td>58</td>\n",
       "      <td>2020-12-16</td>\n",
       "      <td>2020-12-16</td>\n",
       "      <td>PSB HOLDINGS</td>\n",
       "      <td>NaN</td>\n",
       "      <td>0.000000</td>\n",
       "      <td>0.000000</td>\n",
       "      <td>0.000000</td>\n",
       "      <td>...</td>\n",
       "      <td>0.000372</td>\n",
       "      <td>0.003729</td>\n",
       "      <td>0.022052</td>\n",
       "      <td>0.000000</td>\n",
       "      <td>0.000000</td>\n",
       "      <td>0.014448</td>\n",
       "      <td>0.000000</td>\n",
       "      <td>0.000000</td>\n",
       "      <td>0.000000</td>\n",
       "      <td>0.000000</td>\n",
       "    </tr>\n",
       "    <tr>\n",
       "      <th>9065</th>\n",
       "      <td>US2039161011</td>\n",
       "      <td>0.619895</td>\n",
       "      <td>173</td>\n",
       "      <td>2020-10-12</td>\n",
       "      <td>2020-10-12</td>\n",
       "      <td>COMMUNITY FIRST BANCORP DEAD - DELIST.01/08/24</td>\n",
       "      <td>NaN</td>\n",
       "      <td>0.000000</td>\n",
       "      <td>-0.032894</td>\n",
       "      <td>0.000000</td>\n",
       "      <td>...</td>\n",
       "      <td>0.000000</td>\n",
       "      <td>0.000000</td>\n",
       "      <td>0.000000</td>\n",
       "      <td>0.000000</td>\n",
       "      <td>0.000000</td>\n",
       "      <td>0.000000</td>\n",
       "      <td>0.000000</td>\n",
       "      <td>0.000000</td>\n",
       "      <td>0.000000</td>\n",
       "      <td>0.000000</td>\n",
       "    </tr>\n",
       "    <tr>\n",
       "      <th>9072</th>\n",
       "      <td>US6801941070</td>\n",
       "      <td>0.602392</td>\n",
       "      <td>146</td>\n",
       "      <td>2017-10-30</td>\n",
       "      <td>2017-10-30</td>\n",
       "      <td>OLD POINT FINANCIAL</td>\n",
       "      <td>NaN</td>\n",
       "      <td>0.000000</td>\n",
       "      <td>0.003336</td>\n",
       "      <td>0.000000</td>\n",
       "      <td>...</td>\n",
       "      <td>-0.005998</td>\n",
       "      <td>-0.008704</td>\n",
       "      <td>0.000991</td>\n",
       "      <td>-0.001953</td>\n",
       "      <td>-0.014662</td>\n",
       "      <td>0.005903</td>\n",
       "      <td>0.017472</td>\n",
       "      <td>0.041002</td>\n",
       "      <td>0.007838</td>\n",
       "      <td>0.010028</td>\n",
       "    </tr>\n",
       "    <tr>\n",
       "      <th>9081</th>\n",
       "      <td>US00037T1034</td>\n",
       "      <td>0.520543</td>\n",
       "      <td>79</td>\n",
       "      <td>2021-07-14</td>\n",
       "      <td>NaT</td>\n",
       "      <td>AAP</td>\n",
       "      <td>NaN</td>\n",
       "      <td>0.000000</td>\n",
       "      <td>0.000000</td>\n",
       "      <td>0.000000</td>\n",
       "      <td>...</td>\n",
       "      <td>0.000000</td>\n",
       "      <td>0.000000</td>\n",
       "      <td>0.000000</td>\n",
       "      <td>0.287682</td>\n",
       "      <td>-0.287682</td>\n",
       "      <td>0.000000</td>\n",
       "      <td>0.000000</td>\n",
       "      <td>0.000000</td>\n",
       "      <td>0.000000</td>\n",
       "      <td>0.000000</td>\n",
       "    </tr>\n",
       "    <tr>\n",
       "      <th>9093</th>\n",
       "      <td>US23131B3078</td>\n",
       "      <td>0.657401</td>\n",
       "      <td>51</td>\n",
       "      <td>2019-09-09</td>\n",
       "      <td>2019-09-09</td>\n",
       "      <td>CURRENCY EXCHANGE INTL.</td>\n",
       "      <td>NaN</td>\n",
       "      <td>0.010530</td>\n",
       "      <td>0.102160</td>\n",
       "      <td>0.009827</td>\n",
       "      <td>...</td>\n",
       "      <td>0.014810</td>\n",
       "      <td>-0.033201</td>\n",
       "      <td>-0.003799</td>\n",
       "      <td>-0.001259</td>\n",
       "      <td>-0.001692</td>\n",
       "      <td>-0.039850</td>\n",
       "      <td>0.029172</td>\n",
       "      <td>-0.008186</td>\n",
       "      <td>-0.009139</td>\n",
       "      <td>-0.017631</td>\n",
       "    </tr>\n",
       "  </tbody>\n",
       "</table>\n",
       "<p>1966 rows × 2615 columns</p>\n",
       "</div>"
      ],
      "text/plain": [
       "              ISIN  complexity  text_length date_rumor date_announcement  \\\n",
       "6     US6756071055    0.679207           81 2023-07-20        2023-07-20   \n",
       "8     US42981W1045    0.644599          119 2017-04-25        2017-04-25   \n",
       "19    US3020811044    0.707324           39 2016-02-12               NaT   \n",
       "20    US3020811044    0.605777           45 2016-07-06        2016-07-06   \n",
       "21    US3020811044    0.639080           29 2016-10-27        2016-10-27   \n",
       "...            ...         ...          ...        ...               ...   \n",
       "9059  US69360N1081    0.641179           58 2020-12-16        2020-12-16   \n",
       "9065  US2039161011    0.619895          173 2020-10-12        2020-10-12   \n",
       "9072  US6801941070    0.602392          146 2017-10-30        2017-10-30   \n",
       "9081  US00037T1034    0.520543           79 2021-07-14               NaT   \n",
       "9093  US23131B3078    0.657401           51 2019-09-09        2019-09-09   \n",
       "\n",
       "                                                NAME  2014-11-27  2014-11-28  \\\n",
       "6                                    OCONEE FED FINL         NaN    0.002679   \n",
       "8                                 HIGH WIRE NETWORKS         NaN   -0.177931   \n",
       "19                                   EXLSERVICE HDG.         NaN   -0.002819   \n",
       "20                                   EXLSERVICE HDG.         NaN   -0.002819   \n",
       "21                                   EXLSERVICE HDG.         NaN   -0.002819   \n",
       "...                                              ...         ...         ...   \n",
       "9059                                    PSB HOLDINGS         NaN    0.000000   \n",
       "9065  COMMUNITY FIRST BANCORP DEAD - DELIST.01/08/24         NaN    0.000000   \n",
       "9072                             OLD POINT FINANCIAL         NaN    0.000000   \n",
       "9081                                             AAP         NaN    0.000000   \n",
       "9093                         CURRENCY EXCHANGE INTL.         NaN    0.010530   \n",
       "\n",
       "      2014-12-01  2014-12-02  ...  2024-11-13  2024-11-14  2024-11-15  \\\n",
       "6       0.004204    0.000000  ...    0.000000    0.000000    0.000000   \n",
       "8       0.108849    0.048879  ...         NaN         NaN         NaN   \n",
       "19     -0.020576    0.005815  ...   -0.014200   -0.016162   -0.016200   \n",
       "20     -0.020576    0.005815  ...   -0.014200   -0.016162   -0.016200   \n",
       "21     -0.020576    0.005815  ...   -0.014200   -0.016162   -0.016200   \n",
       "...          ...         ...  ...         ...         ...         ...   \n",
       "9059    0.000000    0.000000  ...    0.000372    0.003729    0.022052   \n",
       "9065   -0.032894    0.000000  ...    0.000000    0.000000    0.000000   \n",
       "9072    0.003336    0.000000  ...   -0.005998   -0.008704    0.000991   \n",
       "9081    0.000000    0.000000  ...    0.000000    0.000000    0.000000   \n",
       "9093    0.102160    0.009827  ...    0.014810   -0.033201   -0.003799   \n",
       "\n",
       "      2024-11-18  2024-11-19  2024-11-20  2024-11-21  2024-11-22  2024-11-25  \\\n",
       "6      -0.006676    0.076823   -0.069357    0.000000    0.000000    0.071443   \n",
       "8            NaN         NaN         NaN         NaN         NaN         NaN   \n",
       "19     -0.007634   -0.001582    0.002252    0.028434    0.011976    0.012044   \n",
       "20     -0.007634   -0.001582    0.002252    0.028434    0.011976    0.012044   \n",
       "21     -0.007634   -0.001582    0.002252    0.028434    0.011976    0.012044   \n",
       "...          ...         ...         ...         ...         ...         ...   \n",
       "9059    0.000000    0.000000    0.014448    0.000000    0.000000    0.000000   \n",
       "9065    0.000000    0.000000    0.000000    0.000000    0.000000    0.000000   \n",
       "9072   -0.001953   -0.014662    0.005903    0.017472    0.041002    0.007838   \n",
       "9081    0.287682   -0.287682    0.000000    0.000000    0.000000    0.000000   \n",
       "9093   -0.001259   -0.001692   -0.039850    0.029172   -0.008186   -0.009139   \n",
       "\n",
       "      2024-11-26  \n",
       "6       0.000000  \n",
       "8            NaN  \n",
       "19      0.005335  \n",
       "20      0.005335  \n",
       "21      0.005335  \n",
       "...          ...  \n",
       "9059    0.000000  \n",
       "9065    0.000000  \n",
       "9072    0.010028  \n",
       "9081    0.000000  \n",
       "9093   -0.017631  \n",
       "\n",
       "[1966 rows x 2615 columns]"
      ]
     },
     "execution_count": 169,
     "metadata": {},
     "output_type": "execute_result"
    }
   ],
   "source": [
    "invalid_threshold = len(price_columns) * 0.75\n",
    "merged_df = merged_df[((merged_df[price_columns].isna()) | (merged_df[price_columns] == 0)).sum(axis=1) < invalid_threshold]\n",
    "\n",
    "merged_df\n"
   ]
  },
  {
   "cell_type": "markdown",
   "metadata": {},
   "source": [
    "Calculating normal and abnormal returns"
   ]
  },
  {
   "cell_type": "code",
   "execution_count": null,
   "metadata": {},
   "outputs": [
    {
     "name": "stderr",
     "output_type": "stream",
     "text": [
      "C:\\Users\\pavle\\AppData\\Local\\Temp\\ipykernel_16568\\382707322.py:8: SettingWithCopyWarning: \n",
      "A value is trying to be set on a copy of a slice from a DataFrame.\n",
      "Try using .loc[row_indexer,col_indexer] = value instead\n",
      "\n",
      "See the caveats in the documentation: https://pandas.pydata.org/pandas-docs/stable/user_guide/indexing.html#returning-a-view-versus-a-copy\n",
      "  merged_df['normal_returns'] = None\n",
      "C:\\Users\\pavle\\AppData\\Local\\Temp\\ipykernel_16568\\382707322.py:9: SettingWithCopyWarning: \n",
      "A value is trying to be set on a copy of a slice from a DataFrame.\n",
      "Try using .loc[row_indexer,col_indexer] = value instead\n",
      "\n",
      "See the caveats in the documentation: https://pandas.pydata.org/pandas-docs/stable/user_guide/indexing.html#returning-a-view-versus-a-copy\n",
      "  merged_df['abnormal_returns'] = None\n"
     ]
    },
    {
     "data": {
      "text/html": [
       "<div>\n",
       "<style scoped>\n",
       "    .dataframe tbody tr th:only-of-type {\n",
       "        vertical-align: middle;\n",
       "    }\n",
       "\n",
       "    .dataframe tbody tr th {\n",
       "        vertical-align: top;\n",
       "    }\n",
       "\n",
       "    .dataframe thead th {\n",
       "        text-align: right;\n",
       "    }\n",
       "</style>\n",
       "<table border=\"1\" class=\"dataframe\">\n",
       "  <thead>\n",
       "    <tr style=\"text-align: right;\">\n",
       "      <th></th>\n",
       "      <th>normal_returns</th>\n",
       "      <th>abnormal_returns</th>\n",
       "    </tr>\n",
       "  </thead>\n",
       "  <tbody>\n",
       "    <tr>\n",
       "      <th>6</th>\n",
       "      <td>[-0.00530858684691261, -0.005377092941296572, ...</td>\n",
       "      <td>[-0.041545723579094765, 0.03137837156884793, -...</td>\n",
       "    </tr>\n",
       "    <tr>\n",
       "      <th>8</th>\n",
       "      <td>[0.026731076913451276, 0.027327129164026184, 0...</td>\n",
       "      <td>[-0.10454809927025904, 0.10258500507618332, 0....</td>\n",
       "    </tr>\n",
       "    <tr>\n",
       "      <th>19</th>\n",
       "      <td>[-0.00314675231663423, -0.003268220421828614, ...</td>\n",
       "      <td>[0.0013409992140671915, 0.003268220421828614, ...</td>\n",
       "    </tr>\n",
       "    <tr>\n",
       "      <th>20</th>\n",
       "      <td>[0.0010211521753412003, 0.0010287906818540178,...</td>\n",
       "      <td>[0.002863757857335219, 0.001251546927400513, 0...</td>\n",
       "    </tr>\n",
       "    <tr>\n",
       "      <th>21</th>\n",
       "      <td>[-0.001549801639959009, -0.001564560695363799,...</td>\n",
       "      <td>[-0.04411195995271133, -0.004732343365193393, ...</td>\n",
       "    </tr>\n",
       "    <tr>\n",
       "      <th>...</th>\n",
       "      <td>...</td>\n",
       "      <td>...</td>\n",
       "    </tr>\n",
       "    <tr>\n",
       "      <th>9059</th>\n",
       "      <td>[0.009576950823102377, 0.009771647679421092, 0...</td>\n",
       "      <td>[-0.009576950823102377, -0.009771647679421092,...</td>\n",
       "    </tr>\n",
       "    <tr>\n",
       "      <th>9065</th>\n",
       "      <td>[0.001030789025263469, 0.001074500420114212, 0...</td>\n",
       "      <td>[0.04728705161981307, -0.001074500420114212, -...</td>\n",
       "    </tr>\n",
       "    <tr>\n",
       "      <th>9072</th>\n",
       "      <td>[0.004633989061859622, 0.004758141293277884, 0...</td>\n",
       "      <td>[-0.0015062397453493213, 0.003911711701263945,...</td>\n",
       "    </tr>\n",
       "    <tr>\n",
       "      <th>9081</th>\n",
       "      <td>[0.02355459624709195, 0.024143154025312513, 0....</td>\n",
       "      <td>[-0.27958783556637995, 0.08569647947703472, -0...</td>\n",
       "    </tr>\n",
       "    <tr>\n",
       "      <th>9093</th>\n",
       "      <td>[-0.0034623024111534602, -0.003457842387907652...</td>\n",
       "      <td>[0.016170737513230556, 0.0034578423879076526, ...</td>\n",
       "    </tr>\n",
       "  </tbody>\n",
       "</table>\n",
       "<p>1814 rows × 2 columns</p>\n",
       "</div>"
      ],
      "text/plain": [
       "                                         normal_returns  \\\n",
       "6     [-0.00530858684691261, -0.005377092941296572, ...   \n",
       "8     [0.026731076913451276, 0.027327129164026184, 0...   \n",
       "19    [-0.00314675231663423, -0.003268220421828614, ...   \n",
       "20    [0.0010211521753412003, 0.0010287906818540178,...   \n",
       "21    [-0.001549801639959009, -0.001564560695363799,...   \n",
       "...                                                 ...   \n",
       "9059  [0.009576950823102377, 0.009771647679421092, 0...   \n",
       "9065  [0.001030789025263469, 0.001074500420114212, 0...   \n",
       "9072  [0.004633989061859622, 0.004758141293277884, 0...   \n",
       "9081  [0.02355459624709195, 0.024143154025312513, 0....   \n",
       "9093  [-0.0034623024111534602, -0.003457842387907652...   \n",
       "\n",
       "                                       abnormal_returns  \n",
       "6     [-0.041545723579094765, 0.03137837156884793, -...  \n",
       "8     [-0.10454809927025904, 0.10258500507618332, 0....  \n",
       "19    [0.0013409992140671915, 0.003268220421828614, ...  \n",
       "20    [0.002863757857335219, 0.001251546927400513, 0...  \n",
       "21    [-0.04411195995271133, -0.004732343365193393, ...  \n",
       "...                                                 ...  \n",
       "9059  [-0.009576950823102377, -0.009771647679421092,...  \n",
       "9065  [0.04728705161981307, -0.001074500420114212, -...  \n",
       "9072  [-0.0015062397453493213, 0.003911711701263945,...  \n",
       "9081  [-0.27958783556637995, 0.08569647947703472, -0...  \n",
       "9093  [0.016170737513230556, 0.0034578423879076526, ...  \n",
       "\n",
       "[1814 rows x 2 columns]"
      ]
     },
     "execution_count": 258,
     "metadata": {},
     "output_type": "execute_result"
    }
   ],
   "source": [
    "from sklearn.linear_model import LinearRegression\n",
    "\n",
    "merged_df.columns = merged_df.columns.astype(str)\n",
    "date_columns = pd.to_datetime(merged_df.columns[6:], errors='coerce')\n",
    "\n",
    "merged_df['normal_returns'] = None\n",
    "merged_df['abnormal_returns'] = None\n",
    "\n",
    "for i, row in merged_df.iterrows():\n",
    "    date_rumor = pd.to_datetime(row['date_rumor'])\n",
    "\n",
    "    estimation_end = date_rumor - pd.Timedelta(days=10)\n",
    "    estimation_start = date_rumor - pd.Timedelta(days=110)\n",
    "    event_start = date_rumor - pd.Timedelta(days=0)\n",
    "    event_end = date_rumor + pd.Timedelta(days=7)\n",
    "\n",
    "    # Find the nearest previous trading day for estimation_end and estimation_start\n",
    "    estimation_end = date_columns[date_columns <= estimation_end].max()\n",
    "    estimation_start = date_columns[date_columns <= estimation_start].max()\n",
    "\n",
    "    # Find the nearest previous trading day for event_start and the nearest next trading day for event_end\n",
    "    event_start = date_columns[date_columns <= event_start].max()\n",
    "    event_end = date_columns[date_columns >= event_end].min()\n",
    "\n",
    "    estimation_dates = date_columns[(date_columns >= estimation_start) & (date_columns <= estimation_end)]\n",
    "    event_dates = date_columns[(date_columns >= event_start) & (date_columns <= event_end)]\n",
    "\n",
    "    estimation_dates_str = estimation_dates.strftime('%Y-%m-%d')\n",
    "    event_dates_str = event_dates.strftime('%Y-%m-%d')\n",
    "\n",
    "    estimation_period = row[estimation_dates_str].dropna()\n",
    "\n",
    "    event_period = row[event_dates_str].dropna()\n",
    "\n",
    "    if len(estimation_period) < 2 or len(event_period) < 1:\n",
    "        # print(f\"Not enough data for regression for row {i}. Skipping.\")\n",
    "        continue\n",
    "\n",
    "    X_estimation = np.arange(len(estimation_period)).reshape(-1, 1)\n",
    "    y_estimation = estimation_period.values\n",
    "\n",
    "    model = LinearRegression().fit(X_estimation, y_estimation)\n",
    "\n",
    "    X_event = np.arange(len(estimation_period), len(estimation_period) + len(event_period)).reshape(-1, 1)\n",
    "    normal_returns = model.predict(X_event)\n",
    "\n",
    "    abnormal_returns = event_period.values - normal_returns\n",
    "\n",
    "    merged_df.at[i, 'normal_returns'] = normal_returns.tolist()\n",
    "    merged_df.at[i, 'abnormal_returns'] = abnormal_returns.tolist()\n",
    "\n",
    "\n",
    "merged_df[['normal_returns', 'abnormal_returns']]"
   ]
  },
  {
   "cell_type": "code",
   "execution_count": null,
   "metadata": {},
   "outputs": [
    {
     "name": "stderr",
     "output_type": "stream",
     "text": [
      "C:\\Users\\pavle\\AppData\\Local\\Temp\\ipykernel_16568\\330764163.py:4: SettingWithCopyWarning: \n",
      "A value is trying to be set on a copy of a slice from a DataFrame.\n",
      "Try using .loc[row_indexer,col_indexer] = value instead\n",
      "\n",
      "See the caveats in the documentation: https://pandas.pydata.org/pandas-docs/stable/user_guide/indexing.html#returning-a-view-versus-a-copy\n",
      "  merged_df['CAR'] = None\n"
     ]
    },
    {
     "data": {
      "text/html": [
       "<div>\n",
       "<style scoped>\n",
       "    .dataframe tbody tr th:only-of-type {\n",
       "        vertical-align: middle;\n",
       "    }\n",
       "\n",
       "    .dataframe tbody tr th {\n",
       "        vertical-align: top;\n",
       "    }\n",
       "\n",
       "    .dataframe thead th {\n",
       "        text-align: right;\n",
       "    }\n",
       "</style>\n",
       "<table border=\"1\" class=\"dataframe\">\n",
       "  <thead>\n",
       "    <tr style=\"text-align: right;\">\n",
       "      <th></th>\n",
       "      <th>text_length</th>\n",
       "      <th>complexity</th>\n",
       "      <th>CAR</th>\n",
       "    </tr>\n",
       "  </thead>\n",
       "  <tbody>\n",
       "    <tr>\n",
       "      <th>6</th>\n",
       "      <td>81</td>\n",
       "      <td>0.679207</td>\n",
       "      <td>-0.018007</td>\n",
       "    </tr>\n",
       "    <tr>\n",
       "      <th>8</th>\n",
       "      <td>119</td>\n",
       "      <td>0.644599</td>\n",
       "      <td>-0.048578</td>\n",
       "    </tr>\n",
       "    <tr>\n",
       "      <th>19</th>\n",
       "      <td>39</td>\n",
       "      <td>0.707324</td>\n",
       "      <td>0.027978</td>\n",
       "    </tr>\n",
       "    <tr>\n",
       "      <th>20</th>\n",
       "      <td>45</td>\n",
       "      <td>0.605777</td>\n",
       "      <td>0.039792</td>\n",
       "    </tr>\n",
       "    <tr>\n",
       "      <th>21</th>\n",
       "      <td>29</td>\n",
       "      <td>0.639080</td>\n",
       "      <td>-0.049885</td>\n",
       "    </tr>\n",
       "    <tr>\n",
       "      <th>...</th>\n",
       "      <td>...</td>\n",
       "      <td>...</td>\n",
       "      <td>...</td>\n",
       "    </tr>\n",
       "    <tr>\n",
       "      <th>9059</th>\n",
       "      <td>58</td>\n",
       "      <td>0.641179</td>\n",
       "      <td>-0.075043</td>\n",
       "    </tr>\n",
       "    <tr>\n",
       "      <th>9065</th>\n",
       "      <td>173</td>\n",
       "      <td>0.619895</td>\n",
       "      <td>0.043187</td>\n",
       "    </tr>\n",
       "    <tr>\n",
       "      <th>9072</th>\n",
       "      <td>146</td>\n",
       "      <td>0.602392</td>\n",
       "      <td>-0.020947</td>\n",
       "    </tr>\n",
       "    <tr>\n",
       "      <th>9081</th>\n",
       "      <td>79</td>\n",
       "      <td>0.520543</td>\n",
       "      <td>-0.69078</td>\n",
       "    </tr>\n",
       "    <tr>\n",
       "      <th>9093</th>\n",
       "      <td>51</td>\n",
       "      <td>0.657401</td>\n",
       "      <td>0.033415</td>\n",
       "    </tr>\n",
       "  </tbody>\n",
       "</table>\n",
       "<p>1814 rows × 3 columns</p>\n",
       "</div>"
      ],
      "text/plain": [
       "      text_length  complexity       CAR\n",
       "6              81    0.679207 -0.018007\n",
       "8             119    0.644599 -0.048578\n",
       "19             39    0.707324  0.027978\n",
       "20             45    0.605777  0.039792\n",
       "21             29    0.639080 -0.049885\n",
       "...           ...         ...       ...\n",
       "9059           58    0.641179 -0.075043\n",
       "9065          173    0.619895  0.043187\n",
       "9072          146    0.602392 -0.020947\n",
       "9081           79    0.520543  -0.69078\n",
       "9093           51    0.657401  0.033415\n",
       "\n",
       "[1814 rows x 3 columns]"
      ]
     },
     "execution_count": 259,
     "metadata": {},
     "output_type": "execute_result"
    }
   ],
   "source": [
    "merged_df['CAR'] = None\n",
    "\n",
    "for i, row in merged_df.iterrows():\n",
    "    abnormal_returns = row['abnormal_returns']\n",
    "    \n",
    "    if abnormal_returns:\n",
    "        car = np.sum(abnormal_returns)\n",
    "        merged_df.at[i, 'CAR'] = car\n",
    "\n",
    "# Display the updated DataFrame with CAR\n",
    "merged_df[['text_length', 'complexity', 'CAR']]\n"
   ]
  },
  {
   "cell_type": "code",
   "execution_count": null,
   "metadata": {},
   "outputs": [
    {
     "name": "stdout",
     "output_type": "stream",
     "text": [
      "                            OLS Regression Results                            \n",
      "==============================================================================\n",
      "Dep. Variable:       abnormal_returns   R-squared:                       0.008\n",
      "Model:                            OLS   Adj. R-squared:                  0.006\n",
      "Method:                 Least Squares   F-statistic:                     4.392\n",
      "Date:                Sat, 30 Nov 2024   Prob (F-statistic):             0.0126\n",
      "Time:                        20:03:03   Log-Likelihood:                 3738.7\n",
      "No. Observations:                1072   AIC:                            -7471.\n",
      "Df Residuals:                    1069   BIC:                            -7456.\n",
      "Df Model:                           2                                         \n",
      "Covariance Type:            nonrobust                                         \n",
      "===============================================================================\n",
      "                  coef    std err          t      P>|t|      [0.025      0.975]\n",
      "-------------------------------------------------------------------------------\n",
      "const           0.0009      0.004      0.251      0.802      -0.006       0.008\n",
      "text_length -8.156e-06   2.95e-06     -2.764      0.006   -1.39e-05   -2.37e-06\n",
      "complexity     -0.0004      0.005     -0.069      0.945      -0.011       0.010\n",
      "==============================================================================\n",
      "Omnibus:                        2.539   Durbin-Watson:                   1.919\n",
      "Prob(Omnibus):                  0.281   Jarque-Bera (JB):                2.551\n",
      "Skew:                          -0.119   Prob(JB):                        0.279\n",
      "Kurtosis:                       2.972   Cond. No.                     3.78e+03\n",
      "==============================================================================\n",
      "\n",
      "Notes:\n",
      "[1] Standard Errors assume that the covariance matrix of the errors is correctly specified.\n",
      "[2] The condition number is large, 3.78e+03. This might indicate that there are\n",
      "strong multicollinearity or other numerical problems.\n"
     ]
    }
   ],
   "source": [
    "def convert_columns_to_numeric(df, columns):\n",
    "    for col in columns:\n",
    "        if isinstance(df[col].iloc[0], list):\n",
    "            df[col] = df[col].apply(lambda x: np.mean(x) if isinstance(x, list) else x)\n",
    "            \n",
    "        df[col] = pd.to_numeric(df[col], errors='coerce')\n",
    "    \n",
    "    return df\n",
    "\n",
    "\n",
    "columns_to_check = ['text_length', 'complexity', 'abnormal_returns', 'CAR']\n",
    "merged_df_cleaned = convert_columns_to_numeric(merged_df.copy(), columns_to_check)\n",
    "\n",
    "def remove_outliers(df, columns):\n",
    "    for col in columns:\n",
    "        Q1 = df[col].quantile(0.25)\n",
    "        Q3 = df[col].quantile(0.75)\n",
    "        IQR = Q3 - Q1\n",
    "        \n",
    "        lower_bound = Q1 - 1.5 * IQR\n",
    "        upper_bound = Q3 + 1.5 * IQR\n",
    "        \n",
    "        df = df[(df[col] >= lower_bound) & (df[col] <= upper_bound)]\n",
    "    return df\n",
    "\n",
    "merged_df_cleaned = remove_outliers(merged_df_cleaned, columns_to_check)\n",
    "\n",
    "merged_df_cleaned.dropna(subset=['abnormal_returns', 'text_length', 'complexity'], inplace=True)\n",
    "\n",
    "X = merged_df_cleaned[['text_length', 'complexity']]\n",
    "X = sm.add_constant(X) \n",
    "y = merged_df_cleaned['abnormal_returns']  # or 'CAR'\n",
    "\n",
    "from sklearn.model_selection import train_test_split\n",
    "X_train, X_test, y_train, y_test = train_test_split(X, y, test_size=0.3, random_state=42)\n",
    "\n",
    "import statsmodels.api as sm\n",
    "model = sm.OLS(y_train, X_train)\n",
    "results = model.fit()\n",
    "\n",
    "print(results.summary())"
   ]
  },
  {
   "cell_type": "code",
   "execution_count": null,
   "metadata": {},
   "outputs": [
    {
     "name": "stdout",
     "output_type": "stream",
     "text": [
      "P-value for text_length: 0.044801750471214236\n",
      "P-value for complexity: 0.8281466100609389\n"
     ]
    }
   ],
   "source": [
    "p_values = results.pvalues\n",
    "\n",
    "p_value_text_length = p_values['text_length']\n",
    "p_value_complexity = p_values['complexity']\n",
    "\n",
    "print(f\"P-value for text_length: {p_value_text_length}\")\n",
    "print(f\"P-value for complexity: {p_value_complexity}\")"
   ]
  },
  {
   "cell_type": "code",
   "execution_count": null,
   "metadata": {},
   "outputs": [],
   "source": []
  },
  {
   "cell_type": "code",
   "execution_count": null,
   "metadata": {},
   "outputs": [
    {
     "name": "stdout",
     "output_type": "stream",
     "text": [
      "Mean Absolute Error (MAE): 0.007497475204626804\n",
      "Mean Squared Error (MSE): 8.929467431739495e-05\n",
      "R-squared: -0.20023856277694008\n",
      "\n",
      "Feature Importances:\n",
      "       Feature  Importance\n",
      "2   complexity    0.590658\n",
      "1  text_length    0.409342\n",
      "0        const    0.000000\n"
     ]
    }
   ],
   "source": [
    "from sklearn.ensemble import RandomForestRegressor\n",
    "from sklearn.metrics import mean_absolute_error, mean_squared_error, r2_score\n",
    "\n",
    "model_rf = RandomForestRegressor(n_estimators=100, random_state=1)\n",
    "model_rf.fit(X_train, y_train)\n",
    "\n",
    "y_pred_rf = model_rf.predict(X_test)\n",
    "\n",
    "mae = mean_absolute_error(y_test, y_pred_rf)\n",
    "mse = mean_squared_error(y_test, y_pred_rf)\n",
    "r2 = r2_score(y_test, y_pred_rf)\n",
    "\n",
    "print(f\"Mean Absolute Error (MAE): {mae}\")\n",
    "print(f\"Mean Squared Error (MSE): {mse}\")\n",
    "print(f\"R-squared: {r2}\")\n",
    "\n",
    "importances = model_rf.feature_importances_\n",
    "feature_names = X.columns\n",
    "\n",
    "feature_importance_df = pd.DataFrame({\n",
    "    'Feature': feature_names,\n",
    "    'Importance': importances\n",
    "})\n",
    "\n",
    "feature_importance_df = feature_importance_df.sort_values(by='Importance', ascending=False)\n",
    "\n",
    "print(\"\\nFeature Importances:\")\n",
    "print(feature_importance_df)\n"
   ]
  },
  {
   "cell_type": "code",
   "execution_count": null,
   "metadata": {},
   "outputs": [
    {
     "data": {
      "image/png": "[encoded data removed]",
      "text/plain": [
       "<Figure size 1000x600 with 1 Axes>"
      ]
     },
     "metadata": {},
     "output_type": "display_data"
    }
   ],
   "source": [
    "import seaborn as sns\n",
    "\n",
    "residuals = results.resid\n",
    "\n",
    "# Residuals vs Fitted Plot (for Homoscedasticity)\n",
    "plt.figure(figsize=(10, 6))\n",
    "sns.residplot(x=results.fittedvalues, y=residuals, lowess=True, line_kws={'color': 'red'})\n",
    "plt.xlabel('Fitted Values')\n",
    "plt.ylabel('Residuals')\n",
    "plt.title('Residuals vs Fitted Values')\n",
    "plt.show()\n",
    "\n"
   ]
  },
  {
   "cell_type": "code",
   "execution_count": null,
   "metadata": {},
   "outputs": [
    {
     "name": "stdout",
     "output_type": "stream",
     "text": [
      "      Variable         VIF\n",
      "0        const  241.914954\n",
      "1  text_length    1.145030\n",
      "2   complexity    1.145030\n"
     ]
    }
   ],
   "source": [
    "from statsmodels.stats.outliers_influence import variance_inflation_factor\n",
    "\n",
    "vif_data = pd.DataFrame()\n",
    "vif_data[\"Variable\"] = X.columns\n",
    "vif_data[\"VIF\"] = [variance_inflation_factor(X.values, i) for i in range(len(X.columns))]\n",
    "\n",
    "print(vif_data)"
   ]
  }
 ],
 "metadata": {
  "kernelspec": {
   "display_name": "Python 3",
   "language": "python",
   "name": "python3"
  },
  "language_info": {
   "codemirror_mode": {
    "name": "ipython",
    "version": 3
   },
   "file_extension": ".py",
   "mimetype": "text/x-python",
   "name": "python",
   "nbconvert_exporter": "python",
   "pygments_lexer": "ipython3",
   "version": "3.10.7"
  }
 },
 "nbformat": 4,
 "nbformat_minor": 2
}
